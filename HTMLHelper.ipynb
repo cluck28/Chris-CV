{
 "cells": [
  {
   "cell_type": "markdown",
   "metadata": {},
   "source": [
    "This is a helper function to take html from blog posts I write in google docs and save them in postgres."
   ]
  },
  {
   "cell_type": "code",
   "execution_count": 52,
   "metadata": {},
   "outputs": [
    {
     "name": "stdout",
     "output_type": "stream",
     "text": [
      "Understanding Job Transitions\n",
      "The tool that I built is called JobFit. It is a web application that identifies the skills deficit separating a user’s current job from their dream job.\n"
     ]
    }
   ],
   "source": [
    "from bs4 import BeautifulSoup\n",
    "import pandas as pd\n",
    "from sqlalchemy import create_engine\n",
    "from sqlalchemy_utils import database_exists, create_database\n",
    "import psycopg2\n",
    "\n",
    "soup = BeautifulSoup(open(\"UnderstandingJobTransitions.html\"), \"html.parser\")\n",
    "#f=codecs.open(\"UnderstandingJobTransitions.html\", 'r')\n",
    "body = str(soup.find_all('body')[0])\n",
    "title = str(soup.find(name='span',attrs={'class':'c1'}).text.strip())\n",
    "intro = str(soup.find(name='span',attrs={'class':'c0'}).text.strip())\n",
    "print(title)\n",
    "print(intro)"
   ]
  },
  {
   "cell_type": "code",
   "execution_count": 53,
   "metadata": {},
   "outputs": [],
   "source": [
    "dict_data = [{'body':body,'title':title,'intro':intro}]\n",
    "df = pd.DataFrame(dict_data)\n",
    "df = df[['title','intro','body']]"
   ]
  },
  {
   "cell_type": "code",
   "execution_count": 54,
   "metadata": {},
   "outputs": [
    {
     "name": "stdout",
     "output_type": "stream",
     "text": [
      "postgres://christopherluciuk@localhost/website_blogs_v1\n",
      "True\n"
     ]
    }
   ],
   "source": [
    "#Create or load database\n",
    "# Define a database name\n",
    "# Set your postgres username\n",
    "dbname = 'website_blogs_v1'\n",
    "username = 'christopherluciuk' # change this to your username\n",
    "## 'engine' is a connection to a database\n",
    "## Here, we're using postgres, but sqlalchemy can connect to other things too.\n",
    "engine = create_engine('postgres://%s@localhost/%s'%(username,dbname))\n",
    "print(engine.url)\n",
    "## create a database (if it doesn't exist)\n",
    "if not database_exists(engine.url):\n",
    "    create_database(engine.url)\n",
    "print(database_exists(engine.url))\n",
    "\n",
    "\n",
    "df.to_sql('blog_table', engine)"
   ]
  },
  {
   "cell_type": "code",
   "execution_count": 55,
   "metadata": {},
   "outputs": [
    {
     "data": {
      "text/html": [
       "<div>\n",
       "<style>\n",
       "    .dataframe thead tr:only-child th {\n",
       "        text-align: right;\n",
       "    }\n",
       "\n",
       "    .dataframe thead th {\n",
       "        text-align: left;\n",
       "    }\n",
       "\n",
       "    .dataframe tbody tr th {\n",
       "        vertical-align: top;\n",
       "    }\n",
       "</style>\n",
       "<table border=\"1\" class=\"dataframe\">\n",
       "  <thead>\n",
       "    <tr style=\"text-align: right;\">\n",
       "      <th></th>\n",
       "      <th>index</th>\n",
       "      <th>title</th>\n",
       "      <th>intro</th>\n",
       "      <th>body</th>\n",
       "    </tr>\n",
       "  </thead>\n",
       "  <tbody>\n",
       "    <tr>\n",
       "      <th>0</th>\n",
       "      <td>0</td>\n",
       "      <td>Understanding Job Transitions</td>\n",
       "      <td>The tool that I built is called JobFit. It is ...</td>\n",
       "      <td>&lt;body class=\"c6\"&gt;&lt;p class=\"c7 title\" id=\"h.eif...</td>\n",
       "    </tr>\n",
       "  </tbody>\n",
       "</table>\n",
       "</div>"
      ],
      "text/plain": [
       "   index                          title  \\\n",
       "0      0  Understanding Job Transitions   \n",
       "\n",
       "                                               intro  \\\n",
       "0  The tool that I built is called JobFit. It is ...   \n",
       "\n",
       "                                                body  \n",
       "0  <body class=\"c6\"><p class=\"c7 title\" id=\"h.eif...  "
      ]
     },
     "execution_count": 55,
     "metadata": {},
     "output_type": "execute_result"
    }
   ],
   "source": [
    "con = None\n",
    "con = psycopg2.connect(database = dbname, user = username)\n",
    "cur = con.cursor()\n",
    "# query:\n",
    "sql_query = \"\"\"\n",
    "SELECT * FROM blog_table;\n",
    "\"\"\"\n",
    "data_out = pd.read_sql_query(sql_query,con)\n",
    "\n",
    "cur.close()\n",
    "con.close()\n",
    "data_out"
   ]
  },
  {
   "cell_type": "code",
   "execution_count": null,
   "metadata": {
    "collapsed": true
   },
   "outputs": [],
   "source": []
  }
 ],
 "metadata": {
  "kernelspec": {
   "display_name": "Python 3",
   "language": "python",
   "name": "python3"
  },
  "language_info": {
   "codemirror_mode": {
    "name": "ipython",
    "version": 3
   },
   "file_extension": ".py",
   "mimetype": "text/x-python",
   "name": "python",
   "nbconvert_exporter": "python",
   "pygments_lexer": "ipython3",
   "version": "3.6.3"
  }
 },
 "nbformat": 4,
 "nbformat_minor": 2
}
